{
 "cells": [
  {
   "cell_type": "markdown",
   "metadata": {},
   "source": [
    "# LLP Trigger Efficiency Study\n",
    "\n",
    "This notebook is meant to serve as the development space for code related to the efficiency study of HCAL LLP triggers"
   ]
  },
  {
   "cell_type": "markdown",
   "metadata": {},
   "source": [
    "## Setup"
   ]
  },
  {
   "cell_type": "code",
   "execution_count": 1,
   "metadata": {},
   "outputs": [],
   "source": [
    "import numpy as np\n",
    "import matplotlib.pyplot as plt\n",
    "import uproot\n",
    "import mplhep as hep\n",
    "import os\n",
    "import awkward as ak\n",
    "import hist\n",
    "import itertools\n",
    "import pandas as pd\n",
    "import pickle\n",
    "import re\n",
    "from pypdf import PdfMerger\n",
    "\n",
    "hep.style.use(\"CMS\")"
   ]
  },
  {
   "cell_type": "code",
   "execution_count": 2,
   "metadata": {},
   "outputs": [],
   "source": [
    "import sys\n",
    "sys.path.append(\"./src/\")\n",
    "import utils\n",
    "from utils.LLPTrigUtils import compute_efficiencies, findBestTrig, printBestTrigs\n",
    "from utils.LLPTrigPlotting import plot_efficiencies, plot_improvements\n",
    "from utils.TrigUtils import genFileName"
   ]
  },
  {
   "cell_type": "code",
   "execution_count": 3,
   "metadata": {},
   "outputs": [],
   "source": [
    "def reload_module(module):\n",
    "    import importlib\n",
    "    importlib.reload(module)"
   ]
  },
  {
   "cell_type": "code",
   "execution_count": 4,
   "metadata": {},
   "outputs": [],
   "source": [
    "# HLT LLP Triggers\n",
    "hltTrigs = [\n",
    "    'HLT_HT170_L1SingleLLPJet_DisplacedDijet40_DisplacedTrack',\n",
    "    'HLT_HT200_L1SingleLLPJet_DisplacedDijet40_DisplacedTrack',\n",
    "    'HLT_HT200_L1SingleLLPJet_DisplacedDijet60_DisplacedTrack',\n",
    "    'HLT_HT270_L1SingleLLPJet_DisplacedDijet40_DisplacedTrack',\n",
    "    'HLT_HT320_L1SingleLLPJet_DisplacedDijet60_Inclusive',\n",
    "    'HLT_HT420_L1SingleLLPJet_DisplacedDijet60_Inclusive',\n",
    "    'HLT_HT200_L1SingleLLPJet_DelayedJet40_SingleDelay1nsTrackless',\n",
    "    'HLT_HT200_L1SingleLLPJet_DelayedJet40_SingleDelay2nsInclusive',\n",
    "    'HLT_HT200_L1SingleLLPJet_DelayedJet40_DoubleDelay0p5nsTrackless',\n",
    "    'HLT_HT200_L1SingleLLPJet_DelayedJet40_DoubleDelay1nsInclusive',\n",
    "    'HLT_HT200_L1SingleLLPJet_DisplacedDijet30_Inclusive1PtrkShortSig5',\n",
    "    'HLT_HT200_L1SingleLLPJet_DisplacedDijet35_Inclusive1PtrkShortSig5',\n",
    "    'HLT_HT200_L1SingleLLPJet_DisplacedDijet40_Inclusive1PtrkShortSig5'\n",
    "    ]\n",
    "\n",
    "# L1 LLP Triggers\n",
    "l1Trigs = [\n",
    "    'L1_DoubleLLPJet40',\n",
    "    'L1_HTT120_SingleLLPJet40',\n",
    "    'L1_HTT160_SingleLLPJet50',\n",
    "    'L1_HTT200_SingleLLPJet60',\n",
    "    'L1_HTT240_SingleLLPJet70'\n",
    "    ]"
   ]
  },
  {
   "cell_type": "markdown",
   "metadata": {},
   "source": [
    "## L1 Triggers"
   ]
  },
  {
   "cell_type": "code",
   "execution_count": 5,
   "metadata": {},
   "outputs": [],
   "source": [
    "# Getting name of unprescaled L1 triggers\n",
    "prescales = np.genfromtxt(\n",
    "    fname='/uscms/home/roycruz/nobackup/EMJ/analysis/prescales/Prescale_2022_v0_1_1.csv', \n",
    "    delimiter=',', dtype='i8,U128,i8,i8,i8,i8,i8,i8,i8,i8,i8', names=True)\n",
    "unprescaled = prescales[\"Name\"][prescales[\"2E34\"]==1]"
   ]
  },
  {
   "cell_type": "markdown",
   "metadata": {},
   "source": [
    "### s-channel"
   ]
  },
  {
   "cell_type": "code",
   "execution_count": null,
   "metadata": {
    "scrolled": true
   },
   "outputs": [],
   "source": [
    "# Defining parameter values\n",
    "data_dir = \"/eos/uscms/store/user/rcruzcan/EMJsamples/\"\n",
    "\n",
    "# Lists of parameters to use\n",
    "channel = \"s\"\n",
    "mMed_lst= [100, 250, 500, 750, 1000, 1500, 2000]\n",
    "mDark_lst = [10, 20]\n",
    "ctau_lst = [1, 100, 1000, 1500, 2000]\n",
    "\n",
    "genfnames = []\n",
    "for params in itertools.product(mMed_lst, mDark_lst, ctau_lst):\n",
    "    genfnames.append(genFileName(params[0], params[1], params[2], channel=channel))\n",
    "print(\"Files to be processed\")\n",
    "genfnames"
   ]
  },
  {
   "cell_type": "code",
   "execution_count": null,
   "metadata": {},
   "outputs": [],
   "source": [
    "# Computing efficiencies\n",
    "entry_stop = -1\n",
    "trigs = l1Trigs\n",
    "\n",
    "effs_dict = compute_efficiencies(\n",
    "    trigs, data_dir, mMed_lst, mDark_lst, ctau_lst, channel,\n",
    "    mode=\"L1\", \n",
    "    entry_stop=entry_stop,\n",
    "    unprescaled=unprescaled,\n",
    ")"
   ]
  },
  {
   "cell_type": "code",
   "execution_count": 8,
   "metadata": {},
   "outputs": [],
   "source": [
    "# Saving the efficiencies in a file for convenience\n",
    "with open(\"/uscms/home/roycruz/nobackup/EMJ/analysis/notebooks/effs/efficienL1LLP_schan_effs.pkl\", \"wb\") as f:\n",
    "    pickle.dump(effs_dict, f)"
   ]
  },
  {
   "cell_type": "code",
   "execution_count": 9,
   "metadata": {},
   "outputs": [],
   "source": [
    "with open(\"/uscms/home/roycruz/nobackup/EMJ/analysis/notebooks/effs/efficienL1LLP_schan_effs.pkl\", \"rb\") as f:\n",
    "    effs_dict = pickle.load(f)"
   ]
  },
  {
   "cell_type": "code",
   "execution_count": null,
   "metadata": {
    "scrolled": true
   },
   "outputs": [],
   "source": [
    "# Plotting raw efficiencies\n",
    "savefig = True \n",
    "plot_efficiencies(\n",
    "    effs_dict, mMed_lst, ctau_lst, mDark_lst, l1Trigs, \n",
    "    plotbest=False, \n",
    "    savefig=savefig, \n",
    "    outfname=\"sChanL1LLP_plots\", \n",
    "    title=\"EMJ s-channel LLP L1 Trigger Efficiency \", \n",
    "    outdir=\"/uscms/home/roycruz/nobackup/EMJ/analysis/plots\",\n",
    "    figsize=(12, 8),\n",
    "    unitymax=True,\n",
    "    cleandir=True\n",
    ")"
   ]
  },
  {
   "cell_type": "code",
   "execution_count": null,
   "metadata": {
    "scrolled": true
   },
   "outputs": [],
   "source": [
    "# Plotting efficiencies of LLP + best\n",
    "savefig=True\n",
    "plot_improvements(\n",
    "    effs_dict, mMed_lst, ctau_lst, mDark_lst, l1Trigs, \n",
    "    plotbest=True, \n",
    "    figsize=(12, 8), \n",
    "    title=\"EMJ s-channel LLP L1+Best Trigger Efficiency \", \n",
    "    savefig=savefig, \n",
    "    outfname=\"sChanL1LLP_improvements\",\n",
    "    unitymax=True\n",
    ")"
   ]
  },
  {
   "cell_type": "markdown",
   "metadata": {},
   "source": [
    "### t-channel"
   ]
  },
  {
   "cell_type": "code",
   "execution_count": null,
   "metadata": {
    "scrolled": true
   },
   "outputs": [],
   "source": [
    "data_dir = \"/eos/uscms/store/user/rcruzcan/EMJsamples/\"\n",
    "fnames = []\n",
    "\n",
    "# Lists of parameters to use\n",
    "channel = \"t\"\n",
    "mMed_lst= [100, 250, 500, 750, 1000, 1500, 2000]\n",
    "mDark_lst = [10, 20]\n",
    "ctau_lst = [1, 100, 1000, 1500, 2000]\n",
    "\n",
    "genfnames = []\n",
    "for params in itertools.product(mMed_lst, mDark_lst, ctau_lst):\n",
    "    genfnames.append(genFileName(params[0], params[1], params[2], channel=channel))\n",
    "print(\"Files to be processed\")\n",
    "genfnames"
   ]
  },
  {
   "cell_type": "code",
   "execution_count": null,
   "metadata": {},
   "outputs": [],
   "source": [
    "entry_stop = -1\n",
    "trigs = l1Trigs\n",
    "\n",
    "effs_dict_tchan = compute_efficiencies(\n",
    "    trigs, data_dir, mMed_lst, mDark_lst, ctau_lst, channel,\n",
    "    mode=\"L1\", \n",
    "    entry_stop=entry_stop,\n",
    "    unprescaled=unprescaled,\n",
    ")"
   ]
  },
  {
   "cell_type": "code",
   "execution_count": 14,
   "metadata": {},
   "outputs": [],
   "source": [
    "with open(\"/uscms/home/roycruz/nobackup/EMJ/analysis/notebooks/effs/efficienL1LLP_tchan_effs.pkl\", \"wb\") as f:\n",
    "    pickle.dump(effs_dict_tchan, f)"
   ]
  },
  {
   "cell_type": "code",
   "execution_count": 15,
   "metadata": {},
   "outputs": [],
   "source": [
    "with open(\"/uscms/home/roycruz/nobackup/EMJ/analysis/notebooks/effs/efficienL1LLP_tchan_effs.pkl\", \"rb\") as f:\n",
    "    effs_dict_tchan = pickle.load(f)"
   ]
  },
  {
   "cell_type": "code",
   "execution_count": null,
   "metadata": {
    "scrolled": true
   },
   "outputs": [],
   "source": [
    "savefig = True \n",
    "plot_efficiencies(\n",
    "    effs_dict_tchan, mMed_lst, ctau_lst, mDark_lst, trigs, \n",
    "    plotbest=False, \n",
    "    savefig=savefig, \n",
    "    outdir=\"/uscms/home/roycruz/nobackup/EMJ/analysis/plots\",\n",
    "    outfname=\"tChanL1LLP_plots\", \n",
    "    title=\"EMJ t-channel LLP L1 Trigger Efficiency \", \n",
    "    unitymax=True\n",
    ")"
   ]
  },
  {
   "cell_type": "code",
   "execution_count": null,
   "metadata": {
    "scrolled": true
   },
   "outputs": [],
   "source": [
    "savefig=True\n",
    "plot_improvements(\n",
    "    effs_dict_tchan, mMed_lst, ctau_lst, mDark_lst, trigs, \n",
    "    plotbest=True, \n",
    "    figsize=(12, 8), \n",
    "    outdir=\"./plots\",\n",
    "    title=\"EMJ t-channel LLP L1+Best Trigger Efficiency \", \n",
    "    savefig=savefig, \n",
    "    outfname=\"tChanL1LLP_improvements\"\n",
    ")"
   ]
  },
  {
   "cell_type": "markdown",
   "metadata": {},
   "source": [
    "## HLT Triggers\n",
    "In order to make a fair comparison of efficiencies, we only consider those triggers which are unprescaled."
   ]
  },
  {
   "cell_type": "code",
   "execution_count": 18,
   "metadata": {},
   "outputs": [],
   "source": [
    "# prescalesHLT = pd.read_csv(\"/uscms/home/roycruz/nobackup/EMJ/analysis/prescales/hlt_prescales.csv\")\n",
    "# unprescaledHLT = prescalesHLT[\"Name\"][prescalesHLT[\"2.0e34 Backup\"]==1].to_list()\n",
    "\n",
    "unprescaledHLT = pd.read_csv(\"/uscms/home/roycruz/nobackup/EMJ/analysis/prescales/hlt_unprescaled.csv\")[\"UnprescaledHLTTrigs\"].to_list()\n",
    "\n",
    "# Removing version number from those keys that have them\n",
    "unprescaledHLT = [re.sub(r'_v+$', '', k) for k in unprescaledHLT]"
   ]
  },
  {
   "cell_type": "markdown",
   "metadata": {},
   "source": [
    "## s-channel"
   ]
  },
  {
   "cell_type": "code",
   "execution_count": null,
   "metadata": {
    "scrolled": true
   },
   "outputs": [],
   "source": [
    "# Defining parameter valuess\n",
    "data_dir = \"/eos/uscms/store/user/rcruzcan/EMJsamples/\"\n",
    "fnames = []\n",
    "\n",
    "# Lists of parameters to use\n",
    "channel = \"s\"\n",
    "mMed_lst= [100, 250, 500, 750, 1000, 1500, 2000]\n",
    "mDark_lst = [10, 20]\n",
    "ctau_lst = [1, 100, 1000, 1500, 2000]\n",
    "\n",
    "genfnames = []\n",
    "for params in itertools.product(mMed_lst, mDark_lst, ctau_lst):\n",
    "    genfnames.append(genFileName(params[0], params[1], params[2], channel=channel))\n",
    "print(\"Files to be processed\")\n",
    "genfnames"
   ]
  },
  {
   "cell_type": "code",
   "execution_count": null,
   "metadata": {},
   "outputs": [],
   "source": [
    "entry_stop = -1\n",
    "\n",
    "excludedtrigs = [\n",
    "    'HLT_HcalPhiSym',\n",
    "    'HLT_HcalNZS',\n",
    "    'HLT_IsoTrackHE',\n",
    "    'HLT_PFJet40_GPUvsCPU',\n",
    "    'HLT_HcalIsolatedbunch'\n",
    "]\n",
    "\n",
    "effs_dict_schanHLT = compute_efficiencies(\n",
    "    hltTrigs, data_dir, mMed_lst, mDark_lst, ctau_lst, channel=channel,\n",
    "    mode=\"HLT\", \n",
    "    entry_stop=entry_stop,\n",
    "    unprescaled=unprescaledHLT, \n",
    "    excludedtrigs=excludedtrigs\n",
    ")"
   ]
  },
  {
   "cell_type": "code",
   "execution_count": 21,
   "metadata": {},
   "outputs": [],
   "source": [
    "with open(\"/uscms/home/roycruz/nobackup/EMJ/analysis/notebooks/effs/efficienHLTLLP_schan_effs.pkl\", \"wb\") as f:\n",
    "    pickle.dump(effs_dict_schanHLT, f)"
   ]
  },
  {
   "cell_type": "code",
   "execution_count": 22,
   "metadata": {},
   "outputs": [],
   "source": [
    "with open(\"/uscms/home/roycruz/nobackup/EMJ/analysis/notebooks/effs/efficienHLTLLP_schan_effs.pkl\", \"rb\") as f:\n",
    "    effs_dict_schanHLT = pickle.load(f)"
   ]
  },
  {
   "cell_type": "code",
   "execution_count": null,
   "metadata": {
    "scrolled": true
   },
   "outputs": [],
   "source": [
    "savefig=False\n",
    "plot_efficiencies(\n",
    "    effs_dict_schanHLT, mMed_lst, ctau_lst, mDark_lst, hltTrigs, \n",
    "    figsize=(16,6), \n",
    "    plotbest=False, \n",
    "    title=\"EMJ s-channel LLP HLT Trigger Efficiency \", \n",
    "    savefig=savefig, \n",
    "    outdir=\"/uscms/home/roycruz/nobackup/EMJ/analysis/plots/\", \n",
    "    outfname=\"sChanHLTLLP_plots\"\n",
    ")"
   ]
  },
  {
   "cell_type": "code",
   "execution_count": null,
   "metadata": {
    "scrolled": true
   },
   "outputs": [],
   "source": [
    "savefig=True\n",
    "plot_improvements(\n",
    "    effs_dict_schanHLT, mMed_lst, ctau_lst, mDark_lst, hltTrigs, \n",
    "    plotbest=True, \n",
    "    figsize=(18, 8), \n",
    "    title=\"EMJ s-channel LLP HLT + Best Trigger Efficiency \", \n",
    "    savefig=savefig, \n",
    "    outdir=\"/uscms/home/roycruz/nobackup/EMJ/analysis/plots/\", \n",
    "    outfname=\"sChanHLTLLP_improvements\",\n",
    ")"
   ]
  },
  {
   "cell_type": "markdown",
   "metadata": {},
   "source": [
    "## t-channel"
   ]
  },
  {
   "cell_type": "code",
   "execution_count": null,
   "metadata": {},
   "outputs": [],
   "source": [
    "# Defining parameter valuess\n",
    "data_dir = \"/eos/uscms/store/user/rcruzcan/EMJsamples/\"\n",
    "fnames = []\n",
    "\n",
    "# Lists of parameters to use\n",
    "channel = \"t\"\n",
    "mMed_lst= [100, 250, 500, 750, 1000, 1500, 2000]\n",
    "mDark_lst = [10, 20]\n",
    "ctau_lst = [1, 100, 1000, 1500, 2000]\n",
    "\n",
    "genfnames = []\n",
    "for params in itertools.product(mMed_lst, mDark_lst, ctau_lst):\n",
    "    genfnames.append(genFileName(params[0], params[1], params[2], channel=channel))\n",
    "print(\"Files to be processed\")\n",
    "genfnames"
   ]
  },
  {
   "cell_type": "code",
   "execution_count": null,
   "metadata": {},
   "outputs": [],
   "source": [
    "entry_stop = -1\n",
    "\n",
    "excludedtrigs = [\n",
    "    'HLT_HcalPhiSym',\n",
    "    'HLT_HcalNZS',\n",
    "    'HLT_IsoTrackHE',\n",
    "    'HLT_PFJet40_GPUvsCPU',\n",
    "    'HLT_HcalIsolatedbunch'\n",
    "]\n",
    "\n",
    "effs_dict_tchanHLT = compute_efficiencies(\n",
    "    hltTrigs, data_dir, mMed_lst, mDark_lst, ctau_lst, channel=channel,\n",
    "    mode=\"HLT\", \n",
    "    entry_stop=entry_stop,\n",
    "    unprescaled=unprescaledHLT, \n",
    "    excludedtrigs=excludedtrigs\n",
    ")"
   ]
  },
  {
   "cell_type": "code",
   "execution_count": 27,
   "metadata": {},
   "outputs": [],
   "source": [
    "with open(\"/uscms/home/roycruz/nobackup/EMJ/analysis/notebooks/effs/efficienHLTLLP_tchan_effs.pkl\", \"wb\") as f:\n",
    "    pickle.dump(effs_dict_tchanHLT, f)"
   ]
  },
  {
   "cell_type": "code",
   "execution_count": 28,
   "metadata": {},
   "outputs": [],
   "source": [
    "with open(\"/uscms/home/roycruz/nobackup/EMJ/analysis/notebooks/effs/efficienHLTLLP_tchan_effs.pkl\", \"rb\") as f:\n",
    "    effs_dict_tchanHLT = pickle.load(f)"
   ]
  },
  {
   "cell_type": "code",
   "execution_count": null,
   "metadata": {},
   "outputs": [],
   "source": [
    "savefig=True\n",
    "plot_efficiencies(\n",
    "    effs_dict_tchanHLT, mMed_lst, ctau_lst, mDark_lst, hltTrigs, \n",
    "    figsize=(16,6), \n",
    "    plotbest=False, \n",
    "    title=\"EMJ t-channel LLP HLT Trigger Efficiency \", \n",
    "    savefig=savefig, \n",
    "    outdir=\"/uscms/home/roycruz/nobackup/EMJ/analysis/plots/\", \n",
    "    outfname=\"tChanHLTLLP_plots\"\n",
    ")"
   ]
  },
  {
   "cell_type": "code",
   "execution_count": null,
   "metadata": {},
   "outputs": [],
   "source": [
    "savefig=True\n",
    "plot_improvements(\n",
    "    effs_dict_tchanHLT, mMed_lst, ctau_lst, mDark_lst, hltTrigs, \n",
    "    plotbest=True, \n",
    "    figsize=(18, 8), \n",
    "    title=\"EMJ t-channel LLP HLT + Best Trigger Efficiency \", \n",
    "    savefig=savefig, \n",
    "    outdir=\"/uscms/home/roycruz/nobackup/EMJ/analysis/plots/\", \n",
    "    outfname=\"tChanHLTLLP_improvements\",\n",
    ")"
   ]
  },
  {
   "cell_type": "code",
   "execution_count": null,
   "metadata": {},
   "outputs": [],
   "source": [
    "printBestTrigs(effs_dict_tchanHLT)"
   ]
  }
 ],
 "metadata": {
  "kernelspec": {
   "display_name": "Python 3",
   "language": "python",
   "name": "python3"
  },
  "language_info": {
   "codemirror_mode": {
    "name": "ipython",
    "version": 3
   },
   "file_extension": ".py",
   "mimetype": "text/x-python",
   "name": "python",
   "nbconvert_exporter": "python",
   "pygments_lexer": "ipython3",
   "version": "3.9.14"
  }
 },
 "nbformat": 4,
 "nbformat_minor": 4
}
